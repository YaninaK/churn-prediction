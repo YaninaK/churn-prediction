{
  "nbformat": 4,
  "nbformat_minor": 0,
  "metadata": {
    "colab": {
      "provenance": [],
      "authorship_tag": "ABX9TyPwTWFX3vWq6uNQF8FqG7S/",
      "include_colab_link": true
    },
    "kernelspec": {
      "name": "python3",
      "display_name": "Python 3"
    },
    "language_info": {
      "name": "python"
    }
  },
  "cells": [
    {
      "cell_type": "markdown",
      "metadata": {
        "id": "view-in-github",
        "colab_type": "text"
      },
      "source": [
        "<a href=\"https://colab.research.google.com/github/YaninaK/churn-prediction/blob/main/notebooks/02_Baseline_model_NN.ipynb\" target=\"_parent\"><img src=\"https://colab.research.google.com/assets/colab-badge.svg\" alt=\"Open In Colab\"/></a>"
      ]
    },
    {
      "cell_type": "markdown",
      "source": [
        "# Прогнозирование оттока клиентов - нейросетевая модель.\n",
        "\n",
        "## [EDA](https://github.com/YaninaK/churn-prediction/blob/main/notebooks/01_EDA.ipynb)\n",
        "\n",
        "[Ссылка на данные](https://drive.google.com/file/d/1TAVECAfnel9lPfcpfel6qXhZSW2yNqdX/view?usp=sharing)"
      ],
      "metadata": {
        "id": "qmRQFd7OSNVm"
      }
    },
    {
      "cell_type": "code",
      "source": [
        "from google.colab import drive\n",
        "drive.mount('/content/drive')"
      ],
      "metadata": {
        "colab": {
          "base_uri": "https://localhost:8080/"
        },
        "id": "EUnBE6ppj9JP",
        "outputId": "d7aad16c-72fb-42e2-a66a-a265e4a69518"
      },
      "execution_count": 1,
      "outputs": [
        {
          "output_type": "stream",
          "name": "stdout",
          "text": [
            "Mounted at /content/drive\n"
          ]
        }
      ]
    },
    {
      "cell_type": "code",
      "source": [
        "!git clone https://github.com/YaninaK/churn-prediction.git -q"
      ],
      "metadata": {
        "id": "13JNskXGjX-0"
      },
      "execution_count": 2,
      "outputs": []
    },
    {
      "cell_type": "code",
      "source": [
        "%cd churn-prediction"
      ],
      "metadata": {
        "colab": {
          "base_uri": "https://localhost:8080/"
        },
        "id": "zS_Tb9CDjtx-",
        "outputId": "e33ec63d-53f5-486a-8cee-7da0f958c1c3"
      },
      "execution_count": 3,
      "outputs": [
        {
          "output_type": "stream",
          "name": "stdout",
          "text": [
            "/content/churn-prediction\n"
          ]
        }
      ]
    },
    {
      "cell_type": "code",
      "source": [
        "!git pull -q"
      ],
      "metadata": {
        "id": "25Hvq5gZupbf"
      },
      "execution_count": 4,
      "outputs": []
    },
    {
      "cell_type": "code",
      "source": [
        "import sys\n",
        "import os\n",
        "\n",
        "sys.path.append(os.getcwd())\n",
        "sys.path.append(os.path.join(os.getcwd(), \"src\", \"churn_prediction\"))"
      ],
      "metadata": {
        "id": "77shMUB8SsXF"
      },
      "execution_count": 5,
      "outputs": []
    },
    {
      "cell_type": "code",
      "source": [
        "import pandas as pd\n",
        "import numpy as np\n",
        "import joblib\n",
        "import tensorflow as tf\n",
        "\n",
        "from data.make_dataset import load_data\n",
        "from models import train\n",
        "from models.LSTM_embeddings_model import get_LSTM_model\n",
        "from models.utilities import get_initial_bias_and_class_weight, plot_loss\n",
        "\n",
        "import matplotlib.pyplot as plt\n",
        "import seaborn as sns"
      ],
      "metadata": {
        "id": "BeoCZF_1S9Ld"
      },
      "execution_count": 6,
      "outputs": []
    },
    {
      "cell_type": "code",
      "source": [
        "PATH = '/content/drive/MyDrive/ML_projects/06_Churn_prediction/'"
      ],
      "metadata": {
        "id": "aWpJ2HTPTBDy"
      },
      "execution_count": 7,
      "outputs": []
    },
    {
      "cell_type": "markdown",
      "source": [
        "## 1. Загрузка данных"
      ],
      "metadata": {
        "id": "bpBlNqzYTJDy"
      }
    },
    {
      "cell_type": "code",
      "source": [
        "data = load_data(PATH)\n",
        "data.info()"
      ],
      "metadata": {
        "colab": {
          "base_uri": "https://localhost:8080/"
        },
        "id": "LwahTUV9ks_j",
        "outputId": "a8a02ba9-cbc3-490c-8896-dc4b8bcf7139"
      },
      "execution_count": 8,
      "outputs": [
        {
          "output_type": "stream",
          "name": "stdout",
          "text": [
            "<class 'pandas.core.frame.DataFrame'>\n",
            "RangeIndex: 20468 entries, 0 to 20467\n",
            "Data columns (total 29 columns):\n",
            " #   Column                                Non-Null Count  Dtype  \n",
            "---  ------                                --------------  -----  \n",
            " 0   age                                   20468 non-null  int64  \n",
            " 1   annualincome                          20468 non-null  int64  \n",
            " 2   calldroprate                          20468 non-null  float64\n",
            " 3   callfailurerate                       20468 non-null  float64\n",
            " 4   callingnum                            20468 non-null  int64  \n",
            " 5   customerid                            20468 non-null  int64  \n",
            " 6   customersuspended                     20468 non-null  object \n",
            " 7   education                             20468 non-null  object \n",
            " 8   gender                                20468 non-null  object \n",
            " 9   homeowner                             20468 non-null  object \n",
            " 10  maritalstatus                         20468 non-null  object \n",
            " 11  monthlybilledamount                   20468 non-null  int64  \n",
            " 12  noadditionallines                     20468 non-null  object \n",
            " 13  numberofcomplaints                    20468 non-null  int64  \n",
            " 14  numberofmonthunpaid                   20468 non-null  int64  \n",
            " 15  numdayscontractequipmentplanexpiring  20468 non-null  int64  \n",
            " 16  occupation                            20468 non-null  object \n",
            " 17  penaltytoswitch                       20468 non-null  int64  \n",
            " 18  state                                 20468 non-null  object \n",
            " 19  totalminsusedinlastmonth              20468 non-null  int64  \n",
            " 20  unpaidbalance                         20468 non-null  int64  \n",
            " 21  usesinternetservice                   20468 non-null  object \n",
            " 22  usesvoiceservice                      20468 non-null  object \n",
            " 23  percentagecalloutsidenetwork          20468 non-null  float64\n",
            " 24  totalcallduration                     20468 non-null  int64  \n",
            " 25  avgcallduration                       20468 non-null  int64  \n",
            " 26  churn                                 20468 non-null  int64  \n",
            " 27  year                                  20468 non-null  int64  \n",
            " 28  month                                 20468 non-null  int64  \n",
            "dtypes: float64(3), int64(16), object(10)\n",
            "memory usage: 4.5+ MB\n"
          ]
        }
      ]
    },
    {
      "cell_type": "markdown",
      "source": [
        "## 2. Подготовка данных"
      ],
      "metadata": {
        "id": "to_cLBuRTlnk"
      }
    },
    {
      "cell_type": "code",
      "source": [
        "(\n",
        "    lstm_artifacts, nn_model_dataset, selected_features,\n",
        ") = train.data_preprocessing_pipeline(data)\n",
        "\n",
        "[seq_train, seq_valid, scaler_lstm] = lstm_artifacts\n",
        "[X_train, X_valid, y_train, y_valid] = nn_model_dataset"
      ],
      "metadata": {
        "id": "kEEpy04fuz27"
      },
      "execution_count": 9,
      "outputs": []
    },
    {
      "cell_type": "markdown",
      "source": [
        "## 3. Model"
      ],
      "metadata": {
        "id": "l8pNHoXF85yR"
      }
    },
    {
      "cell_type": "code",
      "source": [
        "vocab_s = X_train['state'].unique().tolist()\n",
        "n_labels_s = len(vocab_s)\n",
        "vocab_e = X_train['education'].unique().tolist()\n",
        "vocab_o = X_train['occupation'].unique().tolist()\n",
        "n_features_other = len(selected_features)\n",
        "\n",
        "params = {\n",
        "    'input_sequence_length': 3,\n",
        "    'n_features': 2,\n",
        "    'n_units': 8,\n",
        "    'vocab_s': vocab_s,\n",
        "    'n_labels_s': n_labels_s,\n",
        "    'embedding_size_s': 4,\n",
        "    'vocab_e': vocab_e,\n",
        "    'vocab_o': vocab_o,\n",
        "    'n_features_other': n_features_other,\n",
        "    'n_units_others': 8,\n",
        "    'n_units_all': 16,\n",
        "}"
      ],
      "metadata": {
        "id": "hZzuA4_KuBK3"
      },
      "execution_count": 10,
      "outputs": []
    },
    {
      "cell_type": "code",
      "source": [
        "model_path = \"models/LSTM_emb_model_v1.keras\"\n",
        "history_path = \"models/model_LSTM_emb_training_history_v1.joblib\"\n",
        "\n",
        "regenerate = False\n",
        "if regenerate:\n",
        "    initial_bias, class_weight = get_initial_bias_and_class_weight(y_train)\n",
        "    lstm_model = get_LSTM_model(**params, output_bias=initial_bias)\n",
        "\n",
        "    n_epochs = 100\n",
        "    batch_size = 64\n",
        "    reduce_lr = tf.keras.callbacks.LearningRateScheduler(\n",
        "        lambda epoch: 3e-2 * 0.95**epoch\n",
        "    )\n",
        "    early_stopping = tf.keras.callbacks.EarlyStopping(\n",
        "        monitor=\"val_prc\",\n",
        "        patience=20,\n",
        "        min_delta=1e-06,\n",
        "        verbose=1,\n",
        "        mode=\"max\",\n",
        "        restore_best_weights=True,\n",
        "    )\n",
        "\n",
        "    history = lstm_model.fit(\n",
        "        [\n",
        "            seq_train,\n",
        "            X_train[\"state\"],\n",
        "            X_train[\"education\"],\n",
        "            X_train[\"occupation\"],\n",
        "            X_train[selected_features],\n",
        "        ],\n",
        "        y_train,\n",
        "        epochs=n_epochs,\n",
        "        validation_data=(\n",
        "            [\n",
        "                seq_valid,\n",
        "                X_valid[\"state\"],\n",
        "                X_valid[\"education\"],\n",
        "                X_valid[\"occupation\"],\n",
        "                X_valid[selected_features],\n",
        "            ],\n",
        "            y_valid,\n",
        "        ),\n",
        "        class_weight=class_weight,\n",
        "        batch_size=batch_size,\n",
        "        verbose=0,\n",
        "        callbacks=[reduce_lr, early_stopping],\n",
        "        shuffle=True,\n",
        "        workers=-1,\n",
        "        use_multiprocessing=True,\n",
        "    )\n",
        "    lstm_model.save(PATH + model_path)\n",
        "    joblib.dump(history, PATH + history_path)\n",
        "\n",
        "else:\n",
        "    lstm_model = tf.keras.models.load_model(PATH + model_path)\n",
        "    history = joblib.load(PATH + history_path)"
      ],
      "metadata": {
        "id": "icciz7ts9hjr"
      },
      "execution_count": 11,
      "outputs": []
    },
    {
      "cell_type": "code",
      "source": [
        "plot_loss(history)"
      ],
      "metadata": {
        "colab": {
          "base_uri": "https://localhost:8080/",
          "height": 472
        },
        "id": "KYS8vwVC9nQC",
        "outputId": "4a5292a6-0836-45fd-9648-0ca1607e7ae8"
      },
      "execution_count": 12,
      "outputs": [
        {
          "output_type": "display_data",
          "data": {
            "text/plain": [
              "<Figure size 640x480 with 1 Axes>"
            ],
            "image/png": "[encoded data removed]"
          },
          "metadata": {}
        }
      ]
    },
    {
      "cell_type": "code",
      "source": [
        "results = lstm_model.evaluate(\n",
        "    [\n",
        "        seq_train,\n",
        "        X_train['state'],\n",
        "        X_train['education'],\n",
        "        X_train['occupation'],\n",
        "        X_train[selected_features]\n",
        "    ],\n",
        "    y_train,\n",
        "    batch_size=64,\n",
        "    verbose=0\n",
        ")\n",
        "print(\"Loss: {:0.4f}\".format(results[0]))"
      ],
      "metadata": {
        "colab": {
          "base_uri": "https://localhost:8080/"
        },
        "id": "grnYEomq-zi-",
        "outputId": "3d77755b-d2de-4944-fe90-5c8d247e92f6"
      },
      "execution_count": 13,
      "outputs": [
        {
          "output_type": "stream",
          "name": "stdout",
          "text": [
            "Loss: 0.6337\n"
          ]
        }
      ]
    },
    {
      "cell_type": "code",
      "source": [
        "baseline_results = lstm_model.evaluate(\n",
        "    [\n",
        "        seq_valid,\n",
        "        X_valid['state'],\n",
        "        X_valid['education'],\n",
        "        X_valid['occupation'],\n",
        "        X_valid[selected_features]\n",
        "    ],\n",
        "    y_valid,\n",
        "    batch_size=64,\n",
        "    verbose=0\n",
        ")\n",
        "for name, value in zip(lstm_model.metrics_names, baseline_results):\n",
        "  print(f'{name} : {value}')"
      ],
      "metadata": {
        "colab": {
          "base_uri": "https://localhost:8080/"
        },
        "id": "DA1WCnIH-7Pn",
        "outputId": "f37ad7c3-82b6-4e34-fbef-8c8611b5b742"
      },
      "execution_count": 14,
      "outputs": [
        {
          "output_type": "stream",
          "name": "stdout",
          "text": [
            "loss : 0.643356442451477\n",
            "cross entropy : 0.643356442451477\n",
            "Brier score : 0.23514311015605927\n",
            "tp : 206.0\n",
            "fp : 1205.0\n",
            "tn : 1395.0\n",
            "fn : 52.0\n",
            "accuracy : 0.5601819157600403\n",
            "precision : 0.14599575102329254\n",
            "recall : 0.7984496355056763\n",
            "auc : 0.703681468963623\n",
            "prc : 0.15596725046634674\n"
          ]
        }
      ]
    }
  ]
}