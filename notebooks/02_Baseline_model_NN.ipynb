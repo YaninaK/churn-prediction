{
  "nbformat": 4,
  "nbformat_minor": 0,
  "metadata": {
    "colab": {
      "provenance": [],
      "toc_visible": true,
      "authorship_tag": "ABX9TyOMA5svQ7haun0CCjUrcy3W",
      "include_colab_link": true
    },
    "kernelspec": {
      "name": "python3",
      "display_name": "Python 3"
    },
    "language_info": {
      "name": "python"
    }
  },
  "cells": [
    {
      "cell_type": "markdown",
      "metadata": {
        "id": "view-in-github",
        "colab_type": "text"
      },
      "source": [
        "<a href=\"https://colab.research.google.com/github/YaninaK/churn-prediction/blob/main/notebooks/02_Baseline_model_NN.ipynb\" target=\"_parent\"><img src=\"https://colab.research.google.com/assets/colab-badge.svg\" alt=\"Open In Colab\"/></a>"
      ]
    },
    {
      "cell_type": "markdown",
      "source": [
        "# Прогнозирование оттока клиентов\n",
        "\n",
        "[Ссылка на данные](https://drive.google.com/file/d/1TAVECAfnel9lPfcpfel6qXhZSW2yNqdX/view?usp=sharing)"
      ],
      "metadata": {
        "id": "qmRQFd7OSNVm"
      }
    },
    {
      "cell_type": "code",
      "source": [
        "from google.colab import drive\n",
        "drive.mount('/content/drive')"
      ],
      "metadata": {
        "colab": {
          "base_uri": "https://localhost:8080/"
        },
        "id": "77shMUB8SsXF",
        "outputId": "c5f1159c-d2d8-4b31-afbc-37660f12289f"
      },
      "execution_count": 1,
      "outputs": [
        {
          "output_type": "stream",
          "name": "stdout",
          "text": [
            "Drive already mounted at /content/drive; to attempt to forcibly remount, call drive.mount(\"/content/drive\", force_remount=True).\n"
          ]
        }
      ]
    },
    {
      "cell_type": "code",
      "source": [
        "import pandas as pd\n",
        "import numpy as np\n",
        "import joblib\n",
        "from sklearn.preprocessing import StandardScaler\n",
        "from sklearn.model_selection import train_test_split\n",
        "import tensorflow as tf\n",
        "\n",
        "from scipy.stats import chi2_contingency, chisquare,  kstest\n",
        "\n",
        "import matplotlib.pyplot as plt\n",
        "import seaborn as sns"
      ],
      "metadata": {
        "id": "BeoCZF_1S9Ld"
      },
      "execution_count": 2,
      "outputs": []
    },
    {
      "cell_type": "code",
      "source": [
        "PATH = '/content/drive/MyDrive/ML_projects/06_Churn_prediction/'"
      ],
      "metadata": {
        "id": "aWpJ2HTPTBDy"
      },
      "execution_count": 3,
      "outputs": []
    },
    {
      "cell_type": "markdown",
      "source": [
        "## 1. Загрузка данных"
      ],
      "metadata": {
        "id": "bpBlNqzYTJDy"
      }
    },
    {
      "cell_type": "code",
      "source": [
        "df = pd.read_csv(PATH + 'data/01_raw/telco-customer-churn.csv')\n",
        "df.info()"
      ],
      "metadata": {
        "colab": {
          "base_uri": "https://localhost:8080/"
        },
        "id": "qXqXRH0STJuD",
        "outputId": "f1c62d38-b667-4c5c-baa2-0d3b9d893975"
      },
      "execution_count": 4,
      "outputs": [
        {
          "output_type": "stream",
          "name": "stdout",
          "text": [
            "<class 'pandas.core.frame.DataFrame'>\n",
            "RangeIndex: 20468 entries, 0 to 20467\n",
            "Data columns (total 29 columns):\n",
            " #   Column                                Non-Null Count  Dtype  \n",
            "---  ------                                --------------  -----  \n",
            " 0   age                                   20468 non-null  int64  \n",
            " 1   annualincome                          20468 non-null  int64  \n",
            " 2   calldroprate                          20468 non-null  float64\n",
            " 3   callfailurerate                       20468 non-null  float64\n",
            " 4   callingnum                            20468 non-null  int64  \n",
            " 5   customerid                            20468 non-null  int64  \n",
            " 6   customersuspended                     20468 non-null  object \n",
            " 7   education                             20468 non-null  object \n",
            " 8   gender                                20468 non-null  object \n",
            " 9   homeowner                             20468 non-null  object \n",
            " 10  maritalstatus                         20468 non-null  object \n",
            " 11  monthlybilledamount                   20468 non-null  int64  \n",
            " 12  noadditionallines                     20468 non-null  object \n",
            " 13  numberofcomplaints                    20468 non-null  int64  \n",
            " 14  numberofmonthunpaid                   20468 non-null  int64  \n",
            " 15  numdayscontractequipmentplanexpiring  20468 non-null  int64  \n",
            " 16  occupation                            20468 non-null  object \n",
            " 17  penaltytoswitch                       20468 non-null  int64  \n",
            " 18  state                                 20468 non-null  object \n",
            " 19  totalminsusedinlastmonth              20468 non-null  int64  \n",
            " 20  unpaidbalance                         20468 non-null  int64  \n",
            " 21  usesinternetservice                   20468 non-null  object \n",
            " 22  usesvoiceservice                      20468 non-null  object \n",
            " 23  percentagecalloutsidenetwork          20468 non-null  float64\n",
            " 24  totalcallduration                     20468 non-null  int64  \n",
            " 25  avgcallduration                       20468 non-null  int64  \n",
            " 26  churn                                 20468 non-null  int64  \n",
            " 27  year                                  20468 non-null  int64  \n",
            " 28  month                                 20468 non-null  int64  \n",
            "dtypes: float64(3), int64(16), object(10)\n",
            "memory usage: 4.5+ MB\n"
          ]
        }
      ]
    },
    {
      "cell_type": "code",
      "source": [
        "TARGET_NAME = 'churn'\n",
        "ID = 'customerid'"
      ],
      "metadata": {
        "id": "8Cr_7wV3T85l"
      },
      "execution_count": 5,
      "outputs": []
    },
    {
      "cell_type": "markdown",
      "source": [
        "## 2. Подготовка данных"
      ],
      "metadata": {
        "id": "to_cLBuRTlnk"
      }
    },
    {
      "cell_type": "markdown",
      "source": [
        "### 2.1. Формирование датасета"
      ],
      "metadata": {
        "id": "TR26jrG6WoFi"
      }
    },
    {
      "cell_type": "code",
      "source": [
        "def seq_padding(x, T=3):\n",
        "  x = x.tolist()\n",
        "  if len(x) < T:\n",
        "    n = T - len(x)\n",
        "    return x + n * [0]\n",
        "  return x\n",
        "\n",
        "vars_to_drop = [\n",
        "    'totalcallduration', 'avgcallduration', 'noadditionallines', 'year', 'month',\n",
        "]\n",
        "\n",
        "def generate_dataset(df, vars_to_drop=vars_to_drop):\n",
        "  features = [i for i in df.columns if not i in vars_to_drop]\n",
        "  agg_const =  df[features].groupby(ID)[features].first()\n",
        "  agg_add = df.groupby(ID).agg(\n",
        "      no_info_1 = ('month', lambda x: 1 if x.min() > 1 else 0),\n",
        "      no_info_3 = ('month', lambda x: 1 if x.max() < 3 else 0),\n",
        "      seq_total_max = ('totalcallduration', 'max'),\n",
        "      seq_total_min = ('totalcallduration', 'min'),\n",
        "      seq_avg_max = ('avgcallduration', 'max'),\n",
        "      seq_avg_min = ('avgcallduration', 'min'),\n",
        "      seq_total_range = ('totalcallduration', lambda x: np.log(x.max()-x.min() + 1)),\n",
        "      seq_avg_range = ('avgcallduration', lambda x: np.log(x.max()-x.min() + 1)),\n",
        "      seq_total = ('totalcallduration', seq_padding),\n",
        "      seq_avg = ('avgcallduration', seq_padding),\n",
        "  )\n",
        "\n",
        "  return pd.concat([agg_const, agg_add], axis=1)"
      ],
      "metadata": {
        "id": "P_CE1NTwVpNB"
      },
      "execution_count": 6,
      "outputs": []
    },
    {
      "cell_type": "code",
      "source": [
        "df = generate_dataset(df)\n",
        "df.sample(2)"
      ],
      "metadata": {
        "colab": {
          "base_uri": "https://localhost:8080/",
          "height": 262
        },
        "id": "OrDe0eTWV-Hw",
        "outputId": "f43af6d8-7ec6-45a4-8d58-8fdf1878f665"
      },
      "execution_count": 7,
      "outputs": [
        {
          "output_type": "execute_result",
          "data": {
            "text/plain": [
              "            age  annualincome  calldroprate  callfailurerate  callingnum  \\\n",
              "customerid                                                                 \n",
              "8792         48         72977          0.05             0.03  4251045437   \n",
              "9430         59        175769          0.00             0.02  4251023336   \n",
              "\n",
              "            customerid customersuspended               education  gender  \\\n",
              "customerid                                                                 \n",
              "8792              8792               Yes  Bachelor or equivalent    Male   \n",
              "9430              9430               Yes    Master or equivalent  Female   \n",
              "\n",
              "           homeowner  ... no_info_1  no_info_3  seq_total_max  seq_total_min  \\\n",
              "customerid            ...                                                      \n",
              "8792             Yes  ...         0          1           4585            814   \n",
              "9430             Yes  ...         0          0           3332            695   \n",
              "\n",
              "            seq_avg_max seq_avg_min  seq_total_range seq_avg_range  \\\n",
              "customerid                                                           \n",
              "8792                917         814         8.235361      4.644391   \n",
              "9430                707         666         7.877776      3.737670   \n",
              "\n",
              "                   seq_total          seq_avg  \n",
              "customerid                                     \n",
              "8792          [4585, 814, 0]    [917, 814, 0]  \n",
              "9430        [3332, 695, 707]  [666, 695, 707]  \n",
              "\n",
              "[2 rows x 34 columns]"
            ],
            "text/html": [
              "\n",
              "  <div id=\"df-dd13a6dc-e018-42d9-896f-df5e0ffbcd23\" class=\"colab-df-container\">\n",
              "    <div>\n",
              "<style scoped>\n",
              "    .dataframe tbody tr th:only-of-type {\n",
              "        vertical-align: middle;\n",
              "    }\n",
              "\n",
              "    .dataframe tbody tr th {\n",
              "        vertical-align: top;\n",
              "    }\n",
              "\n",
              "    .dataframe thead th {\n",
              "        text-align: right;\n",
              "    }\n",
              "</style>\n",
              "<table border=\"1\" class=\"dataframe\">\n",
              "  <thead>\n",
              "    <tr style=\"text-align: right;\">\n",
              "      <th></th>\n",
              "      <th>age</th>\n",
              "      <th>annualincome</th>\n",
              "      <th>calldroprate</th>\n",
              "      <th>callfailurerate</th>\n",
              "      <th>callingnum</th>\n",
              "      <th>customerid</th>\n",
              "      <th>customersuspended</th>\n",
              "      <th>education</th>\n",
              "      <th>gender</th>\n",
              "      <th>homeowner</th>\n",
              "      <th>...</th>\n",
              "      <th>no_info_1</th>\n",
              "      <th>no_info_3</th>\n",
              "      <th>seq_total_max</th>\n",
              "      <th>seq_total_min</th>\n",
              "      <th>seq_avg_max</th>\n",
              "      <th>seq_avg_min</th>\n",
              "      <th>seq_total_range</th>\n",
              "      <th>seq_avg_range</th>\n",
              "      <th>seq_total</th>\n",
              "      <th>seq_avg</th>\n",
              "    </tr>\n",
              "    <tr>\n",
              "      <th>customerid</th>\n",
              "      <th></th>\n",
              "      <th></th>\n",
              "      <th></th>\n",
              "      <th></th>\n",
              "      <th></th>\n",
              "      <th></th>\n",
              "      <th></th>\n",
              "      <th></th>\n",
              "      <th></th>\n",
              "      <th></th>\n",
              "      <th></th>\n",
              "      <th></th>\n",
              "      <th></th>\n",
              "      <th></th>\n",
              "      <th></th>\n",
              "      <th></th>\n",
              "      <th></th>\n",
              "      <th></th>\n",
              "      <th></th>\n",
              "      <th></th>\n",
              "      <th></th>\n",
              "    </tr>\n",
              "  </thead>\n",
              "  <tbody>\n",
              "    <tr>\n",
              "      <th>8792</th>\n",
              "      <td>48</td>\n",
              "      <td>72977</td>\n",
              "      <td>0.05</td>\n",
              "      <td>0.03</td>\n",
              "      <td>4251045437</td>\n",
              "      <td>8792</td>\n",
              "      <td>Yes</td>\n",
              "      <td>Bachelor or equivalent</td>\n",
              "      <td>Male</td>\n",
              "      <td>Yes</td>\n",
              "      <td>...</td>\n",
              "      <td>0</td>\n",
              "      <td>1</td>\n",
              "      <td>4585</td>\n",
              "      <td>814</td>\n",
              "      <td>917</td>\n",
              "      <td>814</td>\n",
              "      <td>8.235361</td>\n",
              "      <td>4.644391</td>\n",
              "      <td>[4585, 814, 0]</td>\n",
              "      <td>[917, 814, 0]</td>\n",
              "    </tr>\n",
              "    <tr>\n",
              "      <th>9430</th>\n",
              "      <td>59</td>\n",
              "      <td>175769</td>\n",
              "      <td>0.00</td>\n",
              "      <td>0.02</td>\n",
              "      <td>4251023336</td>\n",
              "      <td>9430</td>\n",
              "      <td>Yes</td>\n",
              "      <td>Master or equivalent</td>\n",
              "      <td>Female</td>\n",
              "      <td>Yes</td>\n",
              "      <td>...</td>\n",
              "      <td>0</td>\n",
              "      <td>0</td>\n",
              "      <td>3332</td>\n",
              "      <td>695</td>\n",
              "      <td>707</td>\n",
              "      <td>666</td>\n",
              "      <td>7.877776</td>\n",
              "      <td>3.737670</td>\n",
              "      <td>[3332, 695, 707]</td>\n",
              "      <td>[666, 695, 707]</td>\n",
              "    </tr>\n",
              "  </tbody>\n",
              "</table>\n",
              "<p>2 rows × 34 columns</p>\n",
              "</div>\n",
              "    <div class=\"colab-df-buttons\">\n",
              "\n",
              "  <div class=\"colab-df-container\">\n",
              "    <button class=\"colab-df-convert\" onclick=\"convertToInteractive('df-dd13a6dc-e018-42d9-896f-df5e0ffbcd23')\"\n",
              "            title=\"Convert this dataframe to an interactive table.\"\n",
              "            style=\"display:none;\">\n",
              "\n",
              "  <svg xmlns=\"http://www.w3.org/2000/svg\" height=\"24px\" viewBox=\"0 -960 960 960\">\n",
              "    <path d=\"M120-120v-720h720v720H120Zm60-500h600v-160H180v160Zm220 220h160v-160H400v160Zm0 220h160v-160H400v160ZM180-400h160v-160H180v160Zm440 0h160v-160H620v160ZM180-180h160v-160H180v160Zm440 0h160v-160H620v160Z\"/>\n",
              "  </svg>\n",
              "    </button>\n",
              "\n",
              "  <style>\n",
              "    .colab-df-container {\n",
              "      display:flex;\n",
              "      gap: 12px;\n",
              "    }\n",
              "\n",
              "    .colab-df-convert {\n",
              "      background-color: #E8F0FE;\n",
              "      border: none;\n",
              "      border-radius: 50%;\n",
              "      cursor: pointer;\n",
              "      display: none;\n",
              "      fill: #1967D2;\n",
              "      height: 32px;\n",
              "      padding: 0 0 0 0;\n",
              "      width: 32px;\n",
              "    }\n",
              "\n",
              "    .colab-df-convert:hover {\n",
              "      background-color: #E2EBFA;\n",
              "      box-shadow: 0px 1px 2px rgba(60, 64, 67, 0.3), 0px 1px 3px 1px rgba(60, 64, 67, 0.15);\n",
              "      fill: #174EA6;\n",
              "    }\n",
              "\n",
              "    .colab-df-buttons div {\n",
              "      margin-bottom: 4px;\n",
              "    }\n",
              "\n",
              "    [theme=dark] .colab-df-convert {\n",
              "      background-color: #3B4455;\n",
              "      fill: #D2E3FC;\n",
              "    }\n",
              "\n",
              "    [theme=dark] .colab-df-convert:hover {\n",
              "      background-color: #434B5C;\n",
              "      box-shadow: 0px 1px 3px 1px rgba(0, 0, 0, 0.15);\n",
              "      filter: drop-shadow(0px 1px 2px rgba(0, 0, 0, 0.3));\n",
              "      fill: #FFFFFF;\n",
              "    }\n",
              "  </style>\n",
              "\n",
              "    <script>\n",
              "      const buttonEl =\n",
              "        document.querySelector('#df-dd13a6dc-e018-42d9-896f-df5e0ffbcd23 button.colab-df-convert');\n",
              "      buttonEl.style.display =\n",
              "        google.colab.kernel.accessAllowed ? 'block' : 'none';\n",
              "\n",
              "      async function convertToInteractive(key) {\n",
              "        const element = document.querySelector('#df-dd13a6dc-e018-42d9-896f-df5e0ffbcd23');\n",
              "        const dataTable =\n",
              "          await google.colab.kernel.invokeFunction('convertToInteractive',\n",
              "                                                    [key], {});\n",
              "        if (!dataTable) return;\n",
              "\n",
              "        const docLinkHtml = 'Like what you see? Visit the ' +\n",
              "          '<a target=\"_blank\" href=https://colab.research.google.com/notebooks/data_table.ipynb>data table notebook</a>'\n",
              "          + ' to learn more about interactive tables.';\n",
              "        element.innerHTML = '';\n",
              "        dataTable['output_type'] = 'display_data';\n",
              "        await google.colab.output.renderOutput(dataTable, element);\n",
              "        const docLink = document.createElement('div');\n",
              "        docLink.innerHTML = docLinkHtml;\n",
              "        element.appendChild(docLink);\n",
              "      }\n",
              "    </script>\n",
              "  </div>\n",
              "\n",
              "\n",
              "<div id=\"df-96e79b46-50bf-442d-8396-b1e6a87dd6ba\">\n",
              "  <button class=\"colab-df-quickchart\" onclick=\"quickchart('df-96e79b46-50bf-442d-8396-b1e6a87dd6ba')\"\n",
              "            title=\"Suggest charts.\"\n",
              "            style=\"display:none;\">\n",
              "\n",
              "<svg xmlns=\"http://www.w3.org/2000/svg\" height=\"24px\"viewBox=\"0 0 24 24\"\n",
              "     width=\"24px\">\n",
              "    <g>\n",
              "        <path d=\"M19 3H5c-1.1 0-2 .9-2 2v14c0 1.1.9 2 2 2h14c1.1 0 2-.9 2-2V5c0-1.1-.9-2-2-2zM9 17H7v-7h2v7zm4 0h-2V7h2v10zm4 0h-2v-4h2v4z\"/>\n",
              "    </g>\n",
              "</svg>\n",
              "  </button>\n",
              "\n",
              "<style>\n",
              "  .colab-df-quickchart {\n",
              "      --bg-color: #E8F0FE;\n",
              "      --fill-color: #1967D2;\n",
              "      --hover-bg-color: #E2EBFA;\n",
              "      --hover-fill-color: #174EA6;\n",
              "      --disabled-fill-color: #AAA;\n",
              "      --disabled-bg-color: #DDD;\n",
              "  }\n",
              "\n",
              "  [theme=dark] .colab-df-quickchart {\n",
              "      --bg-color: #3B4455;\n",
              "      --fill-color: #D2E3FC;\n",
              "      --hover-bg-color: #434B5C;\n",
              "      --hover-fill-color: #FFFFFF;\n",
              "      --disabled-bg-color: #3B4455;\n",
              "      --disabled-fill-color: #666;\n",
              "  }\n",
              "\n",
              "  .colab-df-quickchart {\n",
              "    background-color: var(--bg-color);\n",
              "    border: none;\n",
              "    border-radius: 50%;\n",
              "    cursor: pointer;\n",
              "    display: none;\n",
              "    fill: var(--fill-color);\n",
              "    height: 32px;\n",
              "    padding: 0;\n",
              "    width: 32px;\n",
              "  }\n",
              "\n",
              "  .colab-df-quickchart:hover {\n",
              "    background-color: var(--hover-bg-color);\n",
              "    box-shadow: 0 1px 2px rgba(60, 64, 67, 0.3), 0 1px 3px 1px rgba(60, 64, 67, 0.15);\n",
              "    fill: var(--button-hover-fill-color);\n",
              "  }\n",
              "\n",
              "  .colab-df-quickchart-complete:disabled,\n",
              "  .colab-df-quickchart-complete:disabled:hover {\n",
              "    background-color: var(--disabled-bg-color);\n",
              "    fill: var(--disabled-fill-color);\n",
              "    box-shadow: none;\n",
              "  }\n",
              "\n",
              "  .colab-df-spinner {\n",
              "    border: 2px solid var(--fill-color);\n",
              "    border-color: transparent;\n",
              "    border-bottom-color: var(--fill-color);\n",
              "    animation:\n",
              "      spin 1s steps(1) infinite;\n",
              "  }\n",
              "\n",
              "  @keyframes spin {\n",
              "    0% {\n",
              "      border-color: transparent;\n",
              "      border-bottom-color: var(--fill-color);\n",
              "      border-left-color: var(--fill-color);\n",
              "    }\n",
              "    20% {\n",
              "      border-color: transparent;\n",
              "      border-left-color: var(--fill-color);\n",
              "      border-top-color: var(--fill-color);\n",
              "    }\n",
              "    30% {\n",
              "      border-color: transparent;\n",
              "      border-left-color: var(--fill-color);\n",
              "      border-top-color: var(--fill-color);\n",
              "      border-right-color: var(--fill-color);\n",
              "    }\n",
              "    40% {\n",
              "      border-color: transparent;\n",
              "      border-right-color: var(--fill-color);\n",
              "      border-top-color: var(--fill-color);\n",
              "    }\n",
              "    60% {\n",
              "      border-color: transparent;\n",
              "      border-right-color: var(--fill-color);\n",
              "    }\n",
              "    80% {\n",
              "      border-color: transparent;\n",
              "      border-right-color: var(--fill-color);\n",
              "      border-bottom-color: var(--fill-color);\n",
              "    }\n",
              "    90% {\n",
              "      border-color: transparent;\n",
              "      border-bottom-color: var(--fill-color);\n",
              "    }\n",
              "  }\n",
              "</style>\n",
              "\n",
              "  <script>\n",
              "    async function quickchart(key) {\n",
              "      const quickchartButtonEl =\n",
              "        document.querySelector('#' + key + ' button');\n",
              "      quickchartButtonEl.disabled = true;  // To prevent multiple clicks.\n",
              "      quickchartButtonEl.classList.add('colab-df-spinner');\n",
              "      try {\n",
              "        const charts = await google.colab.kernel.invokeFunction(\n",
              "            'suggestCharts', [key], {});\n",
              "      } catch (error) {\n",
              "        console.error('Error during call to suggestCharts:', error);\n",
              "      }\n",
              "      quickchartButtonEl.classList.remove('colab-df-spinner');\n",
              "      quickchartButtonEl.classList.add('colab-df-quickchart-complete');\n",
              "    }\n",
              "    (() => {\n",
              "      let quickchartButtonEl =\n",
              "        document.querySelector('#df-96e79b46-50bf-442d-8396-b1e6a87dd6ba button');\n",
              "      quickchartButtonEl.style.display =\n",
              "        google.colab.kernel.accessAllowed ? 'block' : 'none';\n",
              "    })();\n",
              "  </script>\n",
              "</div>\n",
              "    </div>\n",
              "  </div>\n"
            ]
          },
          "metadata": {},
          "execution_count": 7
        }
      ]
    },
    {
      "cell_type": "code",
      "source": [
        "train, test = train_test_split(df, test_size=0.3, random_state=24, stratify=df[TARGET_NAME])\n",
        "valid, test = train_test_split(test, test_size=0.5, random_state=24, stratify=test[TARGET_NAME])\n",
        "\n",
        "train.shape,  valid.shape, test.shape"
      ],
      "metadata": {
        "colab": {
          "base_uri": "https://localhost:8080/"
        },
        "id": "9dEToYTIXer1",
        "outputId": "14fa0612-0db4-4105-a5b4-933931508da4"
      },
      "execution_count": 8,
      "outputs": [
        {
          "output_type": "execute_result",
          "data": {
            "text/plain": [
              "((6667, 34), (1429, 34), (1429, 34))"
            ]
          },
          "metadata": {},
          "execution_count": 8
        }
      ]
    },
    {
      "cell_type": "markdown",
      "source": [
        "### 2.2. Подготовка временных последовательностей для модели LSTM"
      ],
      "metadata": {
        "id": "Hr1KglhyWjRu"
      }
    },
    {
      "cell_type": "code",
      "source": [
        "def seq_padding(x, T=3):\n",
        "  x = x.tolist()\n",
        "  if len(x) < T:\n",
        "    n = T - len(x)\n",
        "    return x + n * [0]\n",
        "  return x\n",
        "########################################\n",
        "\n",
        "def preprocess_seq(df):\n",
        "    seq = np.array(\n",
        "          [df['seq_total'].tolist(), df['seq_avg'].tolist()]\n",
        "      ).reshape(2, -1).T\n",
        "\n",
        "    return seq\n",
        "\n",
        "\n",
        "def fit_transform_seq(df):\n",
        "  seq = preprocess_seq(df)\n",
        "\n",
        "  scaler = StandardScaler()\n",
        "  seq = scaler.fit_transform(seq)\n",
        "\n",
        "  return scaler, seq.reshape(-1, 3, 2)\n",
        "\n",
        "\n",
        "def transform_seq(df, scaler):\n",
        "  seq = preprocess_seq(df)\n",
        "  seq = scaler.transform(seq)\n",
        "\n",
        "  return seq.reshape(-1, 3, 2)"
      ],
      "metadata": {
        "id": "-ncMkWu8WiX6"
      },
      "execution_count": 9,
      "outputs": []
    },
    {
      "cell_type": "code",
      "source": [
        "scaler, seq_train = fit_transform_seq(train)\n",
        "seq_valid = transform_seq(valid, scaler)\n",
        "seq_test = transform_seq(test, scaler)\n",
        "\n",
        "seq_train.shape, seq_valid.shape, seq_test.shape"
      ],
      "metadata": {
        "colab": {
          "base_uri": "https://localhost:8080/"
        },
        "id": "l1kyQKVaXoxh",
        "outputId": "01713faf-7d32-49e1-bcab-4a30fb021abd"
      },
      "execution_count": 10,
      "outputs": [
        {
          "output_type": "execute_result",
          "data": {
            "text/plain": [
              "((6667, 3, 2), (1429, 3, 2), (1429, 3, 2))"
            ]
          },
          "metadata": {},
          "execution_count": 10
        }
      ]
    },
    {
      "cell_type": "markdown",
      "source": [
        "### 2.3. Кодирование бинарных категориальных признаков."
      ],
      "metadata": {
        "id": "oRryrcQXYJg3"
      }
    },
    {
      "cell_type": "code",
      "source": [
        "categorical_variables = train.dtypes[train.dtypes=='object'].index.tolist()[:-2]\n",
        "categorical_variables = [\n",
        "    i for i in categorical_variables if not i in ['state', 'education', 'occupation']\n",
        "]\n",
        "categorical_variables"
      ],
      "metadata": {
        "colab": {
          "base_uri": "https://localhost:8080/"
        },
        "id": "wvPmJmhnZc6g",
        "outputId": "e5ac133b-c4af-4e97-d533-d57254c5d740"
      },
      "execution_count": 11,
      "outputs": [
        {
          "output_type": "execute_result",
          "data": {
            "text/plain": [
              "['customersuspended',\n",
              " 'gender',\n",
              " 'homeowner',\n",
              " 'maritalstatus',\n",
              " 'usesinternetservice',\n",
              " 'usesvoiceservice']"
            ]
          },
          "metadata": {},
          "execution_count": 11
        }
      ]
    },
    {
      "cell_type": "code",
      "source": [
        "def map_categorical_features(df):\n",
        "  X = df.copy()\n",
        "  X['customersuspended'] = X['customersuspended'].map({'Yes': 1, 'No': 0})\n",
        "  X['gender'] = X['gender'].map({'Male': 1, 'Female': 0})\n",
        "  X['homeowner'] = X['homeowner'].map({'Yes': 1,'No': 0})\n",
        "  X['maritalstatus'] = X['maritalstatus'].map({'Single': 1, 'Married': 0})\n",
        "  X['usesinternetservice'] = X['usesinternetservice'].map({'Yes': 1, 'No': 0})\n",
        "  X['usesvoiceservice'] = X['usesvoiceservice'].map({'Yes': 1, 'No': 0 })\n",
        "\n",
        "  return X"
      ],
      "metadata": {
        "id": "5a4ZNNdDYE7n"
      },
      "execution_count": 12,
      "outputs": []
    },
    {
      "cell_type": "code",
      "source": [
        "train = map_categorical_features(train)\n",
        "valid = map_categorical_features(valid)\n",
        "test = map_categorical_features(test)\n",
        "\n",
        "train[categorical_variables].sample(2)"
      ],
      "metadata": {
        "colab": {
          "base_uri": "https://localhost:8080/",
          "height": 143
        },
        "id": "owe1r2ReZtWY",
        "outputId": "986963c3-dea7-4590-cf25-0f70f84c0130"
      },
      "execution_count": 13,
      "outputs": [
        {
          "output_type": "execute_result",
          "data": {
            "text/plain": [
              "            customersuspended  gender  homeowner  maritalstatus  \\\n",
              "customerid                                                        \n",
              "2141                        1       0          1              1   \n",
              "532                         1       1          1              1   \n",
              "\n",
              "            usesinternetservice  usesvoiceservice  \n",
              "customerid                                         \n",
              "2141                          0                 0  \n",
              "532                           0                 0  "
            ],
            "text/html": [
              "\n",
              "  <div id=\"df-8515c900-6715-4f6d-8ca8-40f5cdb053d9\" class=\"colab-df-container\">\n",
              "    <div>\n",
              "<style scoped>\n",
              "    .dataframe tbody tr th:only-of-type {\n",
              "        vertical-align: middle;\n",
              "    }\n",
              "\n",
              "    .dataframe tbody tr th {\n",
              "        vertical-align: top;\n",
              "    }\n",
              "\n",
              "    .dataframe thead th {\n",
              "        text-align: right;\n",
              "    }\n",
              "</style>\n",
              "<table border=\"1\" class=\"dataframe\">\n",
              "  <thead>\n",
              "    <tr style=\"text-align: right;\">\n",
              "      <th></th>\n",
              "      <th>customersuspended</th>\n",
              "      <th>gender</th>\n",
              "      <th>homeowner</th>\n",
              "      <th>maritalstatus</th>\n",
              "      <th>usesinternetservice</th>\n",
              "      <th>usesvoiceservice</th>\n",
              "    </tr>\n",
              "    <tr>\n",
              "      <th>customerid</th>\n",
              "      <th></th>\n",
              "      <th></th>\n",
              "      <th></th>\n",
              "      <th></th>\n",
              "      <th></th>\n",
              "      <th></th>\n",
              "    </tr>\n",
              "  </thead>\n",
              "  <tbody>\n",
              "    <tr>\n",
              "      <th>2141</th>\n",
              "      <td>1</td>\n",
              "      <td>0</td>\n",
              "      <td>1</td>\n",
              "      <td>1</td>\n",
              "      <td>0</td>\n",
              "      <td>0</td>\n",
              "    </tr>\n",
              "    <tr>\n",
              "      <th>532</th>\n",
              "      <td>1</td>\n",
              "      <td>1</td>\n",
              "      <td>1</td>\n",
              "      <td>1</td>\n",
              "      <td>0</td>\n",
              "      <td>0</td>\n",
              "    </tr>\n",
              "  </tbody>\n",
              "</table>\n",
              "</div>\n",
              "    <div class=\"colab-df-buttons\">\n",
              "\n",
              "  <div class=\"colab-df-container\">\n",
              "    <button class=\"colab-df-convert\" onclick=\"convertToInteractive('df-8515c900-6715-4f6d-8ca8-40f5cdb053d9')\"\n",
              "            title=\"Convert this dataframe to an interactive table.\"\n",
              "            style=\"display:none;\">\n",
              "\n",
              "  <svg xmlns=\"http://www.w3.org/2000/svg\" height=\"24px\" viewBox=\"0 -960 960 960\">\n",
              "    <path d=\"M120-120v-720h720v720H120Zm60-500h600v-160H180v160Zm220 220h160v-160H400v160Zm0 220h160v-160H400v160ZM180-400h160v-160H180v160Zm440 0h160v-160H620v160ZM180-180h160v-160H180v160Zm440 0h160v-160H620v160Z\"/>\n",
              "  </svg>\n",
              "    </button>\n",
              "\n",
              "  <style>\n",
              "    .colab-df-container {\n",
              "      display:flex;\n",
              "      gap: 12px;\n",
              "    }\n",
              "\n",
              "    .colab-df-convert {\n",
              "      background-color: #E8F0FE;\n",
              "      border: none;\n",
              "      border-radius: 50%;\n",
              "      cursor: pointer;\n",
              "      display: none;\n",
              "      fill: #1967D2;\n",
              "      height: 32px;\n",
              "      padding: 0 0 0 0;\n",
              "      width: 32px;\n",
              "    }\n",
              "\n",
              "    .colab-df-convert:hover {\n",
              "      background-color: #E2EBFA;\n",
              "      box-shadow: 0px 1px 2px rgba(60, 64, 67, 0.3), 0px 1px 3px 1px rgba(60, 64, 67, 0.15);\n",
              "      fill: #174EA6;\n",
              "    }\n",
              "\n",
              "    .colab-df-buttons div {\n",
              "      margin-bottom: 4px;\n",
              "    }\n",
              "\n",
              "    [theme=dark] .colab-df-convert {\n",
              "      background-color: #3B4455;\n",
              "      fill: #D2E3FC;\n",
              "    }\n",
              "\n",
              "    [theme=dark] .colab-df-convert:hover {\n",
              "      background-color: #434B5C;\n",
              "      box-shadow: 0px 1px 3px 1px rgba(0, 0, 0, 0.15);\n",
              "      filter: drop-shadow(0px 1px 2px rgba(0, 0, 0, 0.3));\n",
              "      fill: #FFFFFF;\n",
              "    }\n",
              "  </style>\n",
              "\n",
              "    <script>\n",
              "      const buttonEl =\n",
              "        document.querySelector('#df-8515c900-6715-4f6d-8ca8-40f5cdb053d9 button.colab-df-convert');\n",
              "      buttonEl.style.display =\n",
              "        google.colab.kernel.accessAllowed ? 'block' : 'none';\n",
              "\n",
              "      async function convertToInteractive(key) {\n",
              "        const element = document.querySelector('#df-8515c900-6715-4f6d-8ca8-40f5cdb053d9');\n",
              "        const dataTable =\n",
              "          await google.colab.kernel.invokeFunction('convertToInteractive',\n",
              "                                                    [key], {});\n",
              "        if (!dataTable) return;\n",
              "\n",
              "        const docLinkHtml = 'Like what you see? Visit the ' +\n",
              "          '<a target=\"_blank\" href=https://colab.research.google.com/notebooks/data_table.ipynb>data table notebook</a>'\n",
              "          + ' to learn more about interactive tables.';\n",
              "        element.innerHTML = '';\n",
              "        dataTable['output_type'] = 'display_data';\n",
              "        await google.colab.output.renderOutput(dataTable, element);\n",
              "        const docLink = document.createElement('div');\n",
              "        docLink.innerHTML = docLinkHtml;\n",
              "        element.appendChild(docLink);\n",
              "      }\n",
              "    </script>\n",
              "  </div>\n",
              "\n",
              "\n",
              "<div id=\"df-8518ae5d-d0dc-4ca3-89da-348efbeb88f6\">\n",
              "  <button class=\"colab-df-quickchart\" onclick=\"quickchart('df-8518ae5d-d0dc-4ca3-89da-348efbeb88f6')\"\n",
              "            title=\"Suggest charts.\"\n",
              "            style=\"display:none;\">\n",
              "\n",
              "<svg xmlns=\"http://www.w3.org/2000/svg\" height=\"24px\"viewBox=\"0 0 24 24\"\n",
              "     width=\"24px\">\n",
              "    <g>\n",
              "        <path d=\"M19 3H5c-1.1 0-2 .9-2 2v14c0 1.1.9 2 2 2h14c1.1 0 2-.9 2-2V5c0-1.1-.9-2-2-2zM9 17H7v-7h2v7zm4 0h-2V7h2v10zm4 0h-2v-4h2v4z\"/>\n",
              "    </g>\n",
              "</svg>\n",
              "  </button>\n",
              "\n",
              "<style>\n",
              "  .colab-df-quickchart {\n",
              "      --bg-color: #E8F0FE;\n",
              "      --fill-color: #1967D2;\n",
              "      --hover-bg-color: #E2EBFA;\n",
              "      --hover-fill-color: #174EA6;\n",
              "      --disabled-fill-color: #AAA;\n",
              "      --disabled-bg-color: #DDD;\n",
              "  }\n",
              "\n",
              "  [theme=dark] .colab-df-quickchart {\n",
              "      --bg-color: #3B4455;\n",
              "      --fill-color: #D2E3FC;\n",
              "      --hover-bg-color: #434B5C;\n",
              "      --hover-fill-color: #FFFFFF;\n",
              "      --disabled-bg-color: #3B4455;\n",
              "      --disabled-fill-color: #666;\n",
              "  }\n",
              "\n",
              "  .colab-df-quickchart {\n",
              "    background-color: var(--bg-color);\n",
              "    border: none;\n",
              "    border-radius: 50%;\n",
              "    cursor: pointer;\n",
              "    display: none;\n",
              "    fill: var(--fill-color);\n",
              "    height: 32px;\n",
              "    padding: 0;\n",
              "    width: 32px;\n",
              "  }\n",
              "\n",
              "  .colab-df-quickchart:hover {\n",
              "    background-color: var(--hover-bg-color);\n",
              "    box-shadow: 0 1px 2px rgba(60, 64, 67, 0.3), 0 1px 3px 1px rgba(60, 64, 67, 0.15);\n",
              "    fill: var(--button-hover-fill-color);\n",
              "  }\n",
              "\n",
              "  .colab-df-quickchart-complete:disabled,\n",
              "  .colab-df-quickchart-complete:disabled:hover {\n",
              "    background-color: var(--disabled-bg-color);\n",
              "    fill: var(--disabled-fill-color);\n",
              "    box-shadow: none;\n",
              "  }\n",
              "\n",
              "  .colab-df-spinner {\n",
              "    border: 2px solid var(--fill-color);\n",
              "    border-color: transparent;\n",
              "    border-bottom-color: var(--fill-color);\n",
              "    animation:\n",
              "      spin 1s steps(1) infinite;\n",
              "  }\n",
              "\n",
              "  @keyframes spin {\n",
              "    0% {\n",
              "      border-color: transparent;\n",
              "      border-bottom-color: var(--fill-color);\n",
              "      border-left-color: var(--fill-color);\n",
              "    }\n",
              "    20% {\n",
              "      border-color: transparent;\n",
              "      border-left-color: var(--fill-color);\n",
              "      border-top-color: var(--fill-color);\n",
              "    }\n",
              "    30% {\n",
              "      border-color: transparent;\n",
              "      border-left-color: var(--fill-color);\n",
              "      border-top-color: var(--fill-color);\n",
              "      border-right-color: var(--fill-color);\n",
              "    }\n",
              "    40% {\n",
              "      border-color: transparent;\n",
              "      border-right-color: var(--fill-color);\n",
              "      border-top-color: var(--fill-color);\n",
              "    }\n",
              "    60% {\n",
              "      border-color: transparent;\n",
              "      border-right-color: var(--fill-color);\n",
              "    }\n",
              "    80% {\n",
              "      border-color: transparent;\n",
              "      border-right-color: var(--fill-color);\n",
              "      border-bottom-color: var(--fill-color);\n",
              "    }\n",
              "    90% {\n",
              "      border-color: transparent;\n",
              "      border-bottom-color: var(--fill-color);\n",
              "    }\n",
              "  }\n",
              "</style>\n",
              "\n",
              "  <script>\n",
              "    async function quickchart(key) {\n",
              "      const quickchartButtonEl =\n",
              "        document.querySelector('#' + key + ' button');\n",
              "      quickchartButtonEl.disabled = true;  // To prevent multiple clicks.\n",
              "      quickchartButtonEl.classList.add('colab-df-spinner');\n",
              "      try {\n",
              "        const charts = await google.colab.kernel.invokeFunction(\n",
              "            'suggestCharts', [key], {});\n",
              "      } catch (error) {\n",
              "        console.error('Error during call to suggestCharts:', error);\n",
              "      }\n",
              "      quickchartButtonEl.classList.remove('colab-df-spinner');\n",
              "      quickchartButtonEl.classList.add('colab-df-quickchart-complete');\n",
              "    }\n",
              "    (() => {\n",
              "      let quickchartButtonEl =\n",
              "        document.querySelector('#df-8518ae5d-d0dc-4ca3-89da-348efbeb88f6 button');\n",
              "      quickchartButtonEl.style.display =\n",
              "        google.colab.kernel.accessAllowed ? 'block' : 'none';\n",
              "    })();\n",
              "  </script>\n",
              "</div>\n",
              "    </div>\n",
              "  </div>\n"
            ]
          },
          "metadata": {},
          "execution_count": 13
        }
      ]
    },
    {
      "cell_type": "markdown",
      "source": [
        "### 2.4. Численные переменные"
      ],
      "metadata": {
        "id": "Xh7VXSrJaOVK"
      }
    },
    {
      "cell_type": "code",
      "source": [
        "selected_numeric_features = ['callfailurerate', 'numberofcomplaints', 'age', 'unpaidbalance']"
      ],
      "metadata": {
        "id": "Td4dcCAvaMfj"
      },
      "execution_count": 14,
      "outputs": []
    },
    {
      "cell_type": "code",
      "source": [
        "scaler_num = StandardScaler()\n",
        "\n",
        "train[selected_numeric_features] = scaler_num.fit_transform(train[selected_numeric_features])\n",
        "valid[selected_numeric_features] = scaler_num.transform(valid[selected_numeric_features])\n",
        "test[selected_numeric_features] = scaler_num.transform(test[selected_numeric_features])"
      ],
      "metadata": {
        "id": "h4U6huRI6dLe"
      },
      "execution_count": 15,
      "outputs": []
    },
    {
      "cell_type": "markdown",
      "source": [
        "## 3. Model"
      ],
      "metadata": {
        "id": "l8pNHoXF85yR"
      }
    },
    {
      "cell_type": "code",
      "source": [
        "selected_features = selected_numeric_features + categorical_variables\n",
        "selected_features"
      ],
      "metadata": {
        "colab": {
          "base_uri": "https://localhost:8080/"
        },
        "id": "TN7xs80m89wp",
        "outputId": "17fd23c7-959c-4e88-b7ca-b6334f8f7a9b"
      },
      "execution_count": 16,
      "outputs": [
        {
          "output_type": "execute_result",
          "data": {
            "text/plain": [
              "['callfailurerate',\n",
              " 'numberofcomplaints',\n",
              " 'age',\n",
              " 'unpaidbalance',\n",
              " 'customersuspended',\n",
              " 'gender',\n",
              " 'homeowner',\n",
              " 'maritalstatus',\n",
              " 'usesinternetservice',\n",
              " 'usesvoiceservice']"
            ]
          },
          "metadata": {},
          "execution_count": 16
        }
      ]
    },
    {
      "cell_type": "code",
      "source": [
        "METRICS = [\n",
        "      tf.keras.metrics.BinaryCrossentropy(name='cross entropy'),  # same as model's loss\n",
        "      tf.keras.metrics.MeanSquaredError(name='Brier score'),\n",
        "      tf.keras.metrics.TruePositives(name='tp'),\n",
        "      tf.keras.metrics.FalsePositives(name='fp'),\n",
        "      tf.keras.metrics.TrueNegatives(name='tn'),\n",
        "      tf.keras.metrics.FalseNegatives(name='fn'),\n",
        "      tf.keras.metrics.BinaryAccuracy(name='accuracy'),\n",
        "      tf.keras.metrics.Precision(name='precision'),\n",
        "      tf.keras.metrics.Recall(name='recall'),\n",
        "      tf.keras.metrics.AUC(name='auc'),\n",
        "      tf.keras.metrics.AUC(name='prc', curve='PR'), # precision-recall curve\n",
        "]\n",
        "\n",
        "vocab_s = train['state'].unique().tolist()\n",
        "n_labels_s = len(vocab_s)\n",
        "vocab_e = train['education'].unique().tolist()\n",
        "vocab_o = train['occupation'].unique().tolist()\n",
        "n_features_other = len(selected_features)\n",
        "\n",
        "params = {\n",
        "    'input_sequence_length': 3,\n",
        "    'n_features': 2,\n",
        "    'n_units': 8,\n",
        "    'vocab_s': vocab_s,\n",
        "    'n_labels_s': n_labels_s,\n",
        "    'embedding_size_s': 4,\n",
        "    'vocab_e': vocab_e,\n",
        "    'vocab_o': vocab_o,\n",
        "    'n_features_other': n_features_other,\n",
        "    'n_units_others': 8,\n",
        "    'n_units_all': 16,\n",
        "}"
      ],
      "metadata": {
        "id": "GYeh8y1b9NLq"
      },
      "execution_count": 17,
      "outputs": []
    },
    {
      "cell_type": "code",
      "source": [
        "def get_initial_bias_and_class_weight(train):\n",
        "  pos = (train[TARGET_NAME]==1).sum()\n",
        "  neg = (train[TARGET_NAME]==0).sum()\n",
        "\n",
        "  initial_bias = np.log([pos/neg])\n",
        "  print(f'initial_bias: {initial_bias}\\n')\n",
        "\n",
        "  total = train.shape[0]\n",
        "  weight_for_0 = (1 / neg) * (total / 2.0)\n",
        "  weight_for_1 = (1 / pos) * (total / 2.0)\n",
        "\n",
        "  class_weight = {0: weight_for_0, 1: weight_for_1}\n",
        "  print('Weight for class 0: {:.2f}'.format(weight_for_0))\n",
        "  print('Weight for class 1: {:.2f}'.format(weight_for_1))\n",
        "\n",
        "  return initial_bias, class_weight\n",
        "\n",
        "\n",
        "def plot_loss(history):\n",
        "  plt.semilogy(history.epoch, history.history['loss'], label='Train')\n",
        "  plt.semilogy(\n",
        "      history.epoch, history.history['val_loss'], label='Valid', linestyle=\"--\"\n",
        "  )\n",
        "  plt.xlabel('Epoch')\n",
        "  plt.ylabel('Loss')\n",
        "  plt.title(\"LSTM model Loss\")\n",
        "  plt.legend()"
      ],
      "metadata": {
        "id": "OhKFd2Sd-Atz"
      },
      "execution_count": 18,
      "outputs": []
    },
    {
      "cell_type": "code",
      "source": [
        "def get_model(\n",
        "    input_sequence_length: int,\n",
        "    n_features: int,\n",
        "    n_units: int,\n",
        "    vocab_s: list,\n",
        "    n_labels_s: int,\n",
        "    embedding_size_s: int,\n",
        "    vocab_e: list,\n",
        "    vocab_o: list,\n",
        "    n_features_other: int,\n",
        "    n_units_others: int,\n",
        "    n_units_all: int,\n",
        "    output_bias=None,\n",
        "    metrics=METRICS,\n",
        "):\n",
        "  \"\"\"\n",
        "  # LSTM\n",
        "  input_sequence_length=3\n",
        "  n_features=2\n",
        "  n_units=8\n",
        "\n",
        "  # state\n",
        "  vocab_s = train['state'].unique().tolist()\n",
        "  n_labels_s = len(vocab_s)\n",
        "  embedding_size_s = 4\n",
        "\n",
        "  # education, occupation\n",
        "  vocab_e = train['education'].unique().tolist()\n",
        "  vocab_o = train['occupation'].unique().tolist()\n",
        "\n",
        "  # other_features\n",
        "  n_features_other = len(selected_features)\n",
        "  n_units_others = 8\n",
        "\n",
        "  n_units_all = 16\n",
        "\n",
        "  \"\"\"\n",
        "  if output_bias is not None:\n",
        "    output_bias = tf.keras.initializers.Constant(output_bias)\n",
        "\n",
        "  # LSTM\n",
        "  lstm_inputs = tf.keras.layers.Input(\n",
        "      shape=(input_sequence_length, n_features), name=\"lstm_inputs\"\n",
        "  )\n",
        "  lstm_output = tf.keras.layers.LSTM(n_units, name=\"lstm_output\")(lstm_inputs)\n",
        "\n",
        "\n",
        "  # states\n",
        "  inputs_s = tf.keras.layers.Input(shape=(), name=\"state_inputs\", dtype=tf.string)\n",
        "  str_lookup_s = tf.keras.layers.StringLookup(\n",
        "      vocabulary=vocab_s, name=\"string_lookup_state\"\n",
        "  )(inputs_s)\n",
        "  embeddings_s = tf.keras.layers.Embedding(\n",
        "      n_labels_s + 1,\n",
        "      embedding_size_s,\n",
        "      input_length=1,\n",
        "      name=\"embeddings_state\"\n",
        "  )(str_lookup_s)\n",
        "  flatten_s = tf.keras.layers.Flatten(name=\"flatten_state\")(embeddings_s)\n",
        "\n",
        "  # education, occupation\n",
        "  inputs_e = tf.keras.layers.Input(shape=(), name=\"education_inputs\", dtype=tf.string)\n",
        "  str_lookup_layer_e = tf.keras.layers.StringLookup(\n",
        "        vocabulary=vocab_e, output_mode=\"one_hot\", name=\"str_lookup_layer_education\"\n",
        "  )(inputs_e)\n",
        "\n",
        "  inputs_o = tf.keras.layers.Input(shape=(), name=\"occupation_inputs\", dtype=tf.string)\n",
        "  str_lookup_layer_o = tf.keras.layers.StringLookup(\n",
        "        vocabulary=vocab_o, output_mode=\"one_hot\", name=\"str_lookup_layer_occupation\"\n",
        "  )(inputs_o)\n",
        "\n",
        "  # other_features\n",
        "  inputs_all = tf.keras.layers.Input(\n",
        "      shape=(n_features_other), name=\"inputs_all\"\n",
        "  )\n",
        "  dense_others = tf.keras.layers.Dense(\n",
        "      n_units_all, activation=tf.keras.activations.gelu, name=\"dense_others\",\n",
        "  )(inputs_all)\n",
        "\n",
        "  # all\n",
        "  concat_all = tf.keras.layers.Concatenate(axis=-1, name=\"concat_all\")(\n",
        "      [lstm_output, flatten_s, str_lookup_layer_e, str_lookup_layer_o, dense_others]\n",
        "  )\n",
        "  dense_all = tf.keras.layers.Dense(\n",
        "      n_units_all, activation=tf.keras.activations.gelu, name=\"dense_all\",\n",
        "  )(concat_all)\n",
        "\n",
        "  # output\n",
        "  outputs = tf.keras.layers.Dense(\n",
        "      1, activation=tf.keras.activations.sigmoid, name=\"outputs\",\n",
        "      bias_initializer=output_bias,\n",
        "  )(concat_all)\n",
        "\n",
        "  model = tf.keras.models.Model(\n",
        "      [lstm_inputs, inputs_s, inputs_e, inputs_o, inputs_all],\n",
        "      outputs,\n",
        "      name=\"lstm_model\"\n",
        "  )\n",
        "  model.compile(\n",
        "      optimizer=tf.keras.optimizers.Adam(),\n",
        "      loss=tf.keras.losses.BinaryCrossentropy(),\n",
        "      metrics=METRICS,\n",
        "  )\n",
        "\n",
        "  return model"
      ],
      "metadata": {
        "id": "D3w-eVbg9VOv"
      },
      "execution_count": 19,
      "outputs": []
    },
    {
      "cell_type": "code",
      "source": [
        "model_path = \"models/LSTM_model3.keras\"\n",
        "history_path = \"models/model_LSTM_training_history3.joblib\"\n",
        "\n",
        "regenerate = True\n",
        "if regenerate:\n",
        "  initial_bias, class_weight = get_initial_bias_and_class_weight(train)\n",
        "  lstm_model = get_model(**params, output_bias=initial_bias)\n",
        "  n_epochs = 100\n",
        "  batch_size = 64\n",
        "  reduce_lr = tf.keras.callbacks.LearningRateScheduler(\n",
        "      lambda epoch: 3e-2 * 0.95 ** epoch\n",
        "  )\n",
        "  early_stopping = tf.keras.callbacks.EarlyStopping(\n",
        "      monitor='val_prc',\n",
        "      patience=20,\n",
        "      min_delta=1e-06,\n",
        "      verbose=1,\n",
        "      mode=\"max\",\n",
        "      restore_best_weights=True,\n",
        "  )\n",
        "\n",
        "  history = lstm_model.fit(\n",
        "      [\n",
        "          seq_train,\n",
        "          train['state'],\n",
        "          train['education'],\n",
        "          train['occupation'],\n",
        "          train[selected_features]\n",
        "      ],\n",
        "      train[TARGET_NAME],\n",
        "      epochs=n_epochs,\n",
        "      validation_data=(\n",
        "          [\n",
        "              seq_valid,\n",
        "              valid['state'],\n",
        "              valid['education'],\n",
        "              valid['occupation'],\n",
        "              valid[selected_features]\n",
        "          ],\n",
        "          valid[TARGET_NAME]\n",
        "      ),\n",
        "      class_weight=class_weight,\n",
        "      batch_size=batch_size,\n",
        "      verbose=0,\n",
        "      callbacks=[reduce_lr, early_stopping],\n",
        "      shuffle=True,\n",
        "      workers=-1,\n",
        "      use_multiprocessing=True\n",
        "  )\n",
        "  lstm_model.save(PATH + model_path)\n",
        "  joblib.dump(history, PATH + history_path)\n",
        "\n",
        "else:\n",
        "  lstm_model = tf.keras.models.load_model(PATH + model_path)\n",
        "  history = joblib.load(PATH + history_path)"
      ],
      "metadata": {
        "colab": {
          "base_uri": "https://localhost:8080/"
        },
        "id": "icciz7ts9hjr",
        "outputId": "2453201f-2798-4c5d-aabb-0151778420cc"
      },
      "execution_count": 20,
      "outputs": [
        {
          "output_type": "stream",
          "name": "stdout",
          "text": [
            "initial_bias: [-2.30820773]\n",
            "\n",
            "Weight for class 0: 0.55\n",
            "Weight for class 1: 5.53\n",
            "Restoring model weights from the end of the best epoch: 27.\n",
            "Epoch 47: early stopping\n"
          ]
        }
      ]
    },
    {
      "cell_type": "code",
      "source": [
        "plot_loss(history)"
      ],
      "metadata": {
        "colab": {
          "base_uri": "https://localhost:8080/",
          "height": 472
        },
        "id": "KYS8vwVC9nQC",
        "outputId": "ec01082c-e86c-47f5-e2e8-1e5bc2019189"
      },
      "execution_count": 21,
      "outputs": [
        {
          "output_type": "display_data",
          "data": {
            "text/plain": [
              "<Figure size 640x480 with 1 Axes>"
            ],
            "image/png": "[encoded data removed]"
          },
          "metadata": {}
        }
      ]
    },
    {
      "cell_type": "code",
      "source": [
        "results = lstm_model.evaluate(\n",
        "    [\n",
        "        seq_train,\n",
        "        train['state'],\n",
        "        train['education'],\n",
        "        train['occupation'],\n",
        "        train[selected_features]\n",
        "    ],\n",
        "    train[TARGET_NAME],\n",
        "    batch_size=64,\n",
        "    verbose=0\n",
        ")\n",
        "print(\"Loss: {:0.4f}\".format(results[0]))"
      ],
      "metadata": {
        "colab": {
          "base_uri": "https://localhost:8080/"
        },
        "id": "grnYEomq-zi-",
        "outputId": "3098f5f8-e794-4918-eec3-cd574e6b18a5"
      },
      "execution_count": 22,
      "outputs": [
        {
          "output_type": "stream",
          "name": "stdout",
          "text": [
            "Loss: 0.5813\n"
          ]
        }
      ]
    },
    {
      "cell_type": "code",
      "source": [
        "baseline_results = lstm_model.evaluate(\n",
        "    [seq_test, test['state'], test['education'], test['occupation'], test[selected_features]],\n",
        "    test[TARGET_NAME], batch_size=64, verbose=0\n",
        ")\n",
        "for name, value in zip(lstm_model.metrics_names, baseline_results):\n",
        "  print(name, ': ', value)\n",
        "print()"
      ],
      "metadata": {
        "colab": {
          "base_uri": "https://localhost:8080/"
        },
        "id": "DA1WCnIH-7Pn",
        "outputId": "4fe23c27-e6f3-4536-9d9e-8403de7a92ee"
      },
      "execution_count": 23,
      "outputs": [
        {
          "output_type": "stream",
          "name": "stdout",
          "text": [
            "loss :  0.6043984293937683\n",
            "cross entropy :  0.6043984293937683\n",
            "Brier score :  0.21740342676639557\n",
            "tp :  89.0\n",
            "fp :  531.0\n",
            "tn :  769.0\n",
            "fn :  40.0\n",
            "accuracy :  0.6004198789596558\n",
            "precision :  0.143548384308815\n",
            "recall :  0.6899224519729614\n",
            "auc :  0.7100656032562256\n",
            "prc :  0.16252627968788147\n",
            "\n"
          ]
        }
      ]
    }
  ]
}